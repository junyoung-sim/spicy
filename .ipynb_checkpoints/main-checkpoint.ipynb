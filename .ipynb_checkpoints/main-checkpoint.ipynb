{
 "cells": [
  {
   "cell_type": "code",
   "execution_count": 1,
   "id": "846cfa36",
   "metadata": {},
   "outputs": [],
   "source": [
    "import numpy as np\n",
    "import pandas as pd\n",
    "import seaborn as sns\n",
    "from scipy import stats"
   ]
  },
  {
   "cell_type": "code",
   "execution_count": 2,
   "id": "24484b25",
   "metadata": {},
   "outputs": [
    {
     "data": {
      "text/html": [
       "<div>\n",
       "<style scoped>\n",
       "    .dataframe tbody tr th:only-of-type {\n",
       "        vertical-align: middle;\n",
       "    }\n",
       "\n",
       "    .dataframe tbody tr th {\n",
       "        vertical-align: top;\n",
       "    }\n",
       "\n",
       "    .dataframe thead th {\n",
       "        text-align: right;\n",
       "    }\n",
       "</style>\n",
       "<table border=\"1\" class=\"dataframe\">\n",
       "  <thead>\n",
       "    <tr style=\"text-align: right;\">\n",
       "      <th></th>\n",
       "      <th>Correct</th>\n",
       "    </tr>\n",
       "  </thead>\n",
       "  <tbody>\n",
       "    <tr>\n",
       "      <th>count</th>\n",
       "      <td>40.000000</td>\n",
       "    </tr>\n",
       "    <tr>\n",
       "      <th>mean</th>\n",
       "      <td>6.700000</td>\n",
       "    </tr>\n",
       "    <tr>\n",
       "      <th>std</th>\n",
       "      <td>3.081791</td>\n",
       "    </tr>\n",
       "    <tr>\n",
       "      <th>min</th>\n",
       "      <td>1.000000</td>\n",
       "    </tr>\n",
       "    <tr>\n",
       "      <th>25%</th>\n",
       "      <td>4.750000</td>\n",
       "    </tr>\n",
       "    <tr>\n",
       "      <th>50%</th>\n",
       "      <td>7.000000</td>\n",
       "    </tr>\n",
       "    <tr>\n",
       "      <th>75%</th>\n",
       "      <td>9.000000</td>\n",
       "    </tr>\n",
       "    <tr>\n",
       "      <th>max</th>\n",
       "      <td>12.000000</td>\n",
       "    </tr>\n",
       "  </tbody>\n",
       "</table>\n",
       "</div>"
      ],
      "text/plain": [
       "         Correct\n",
       "count  40.000000\n",
       "mean    6.700000\n",
       "std     3.081791\n",
       "min     1.000000\n",
       "25%     4.750000\n",
       "50%     7.000000\n",
       "75%     9.000000\n",
       "max    12.000000"
      ]
     },
     "execution_count": 2,
     "metadata": {},
     "output_type": "execute_result"
    }
   ],
   "source": [
    "# load control data and show descriptive statistics\n",
    "control = pd.read_csv(\"./data/control.csv\")\n",
    "control.describe()"
   ]
  },
  {
   "cell_type": "code",
   "execution_count": 3,
   "id": "3c2d66d0",
   "metadata": {},
   "outputs": [
    {
     "data": {
      "text/html": [
       "<div>\n",
       "<style scoped>\n",
       "    .dataframe tbody tr th:only-of-type {\n",
       "        vertical-align: middle;\n",
       "    }\n",
       "\n",
       "    .dataframe tbody tr th {\n",
       "        vertical-align: top;\n",
       "    }\n",
       "\n",
       "    .dataframe thead th {\n",
       "        text-align: right;\n",
       "    }\n",
       "</style>\n",
       "<table border=\"1\" class=\"dataframe\">\n",
       "  <thead>\n",
       "    <tr style=\"text-align: right;\">\n",
       "      <th></th>\n",
       "      <th>Correct</th>\n",
       "    </tr>\n",
       "  </thead>\n",
       "  <tbody>\n",
       "    <tr>\n",
       "      <th>count</th>\n",
       "      <td>15.000000</td>\n",
       "    </tr>\n",
       "    <tr>\n",
       "      <th>mean</th>\n",
       "      <td>7.133333</td>\n",
       "    </tr>\n",
       "    <tr>\n",
       "      <th>std</th>\n",
       "      <td>3.335238</td>\n",
       "    </tr>\n",
       "    <tr>\n",
       "      <th>min</th>\n",
       "      <td>2.000000</td>\n",
       "    </tr>\n",
       "    <tr>\n",
       "      <th>25%</th>\n",
       "      <td>4.500000</td>\n",
       "    </tr>\n",
       "    <tr>\n",
       "      <th>50%</th>\n",
       "      <td>8.000000</td>\n",
       "    </tr>\n",
       "    <tr>\n",
       "      <th>75%</th>\n",
       "      <td>9.500000</td>\n",
       "    </tr>\n",
       "    <tr>\n",
       "      <th>max</th>\n",
       "      <td>12.000000</td>\n",
       "    </tr>\n",
       "  </tbody>\n",
       "</table>\n",
       "</div>"
      ],
      "text/plain": [
       "         Correct\n",
       "count  15.000000\n",
       "mean    7.133333\n",
       "std     3.335238\n",
       "min     2.000000\n",
       "25%     4.500000\n",
       "50%     8.000000\n",
       "75%     9.500000\n",
       "max    12.000000"
      ]
     },
     "execution_count": 3,
     "metadata": {},
     "output_type": "execute_result"
    }
   ],
   "source": [
    "# load spicy data and show descriptive statistics\n",
    "spicy = pd.read_csv(\"./data/spicy.csv\")\n",
    "spicy.describe()"
   ]
  },
  {
   "cell_type": "code",
   "execution_count": 4,
   "id": "fadc7c75",
   "metadata": {},
   "outputs": [],
   "source": [
    "control = np.array(control[\"Correct\"])\n",
    "spicy = np.array(spicy[\"Correct\"])"
   ]
  },
  {
   "cell_type": "code",
   "execution_count": 5,
   "id": "df9c46f4",
   "metadata": {},
   "outputs": [
    {
     "data": {
      "text/plain": [
       "[Text(0.5, 0, 'correctly recalled number of digits (control)'),\n",
       " Text(0, 0.5, 'frequency')]"
      ]
     },
     "execution_count": 5,
     "metadata": {},
     "output_type": "execute_result"
    },
    {
     "data": {
      "image/png": "[encoded data removed]",
      "text/plain": [
       "<Figure size 640x480 with 1 Axes>"
      ]
     },
     "metadata": {},
     "output_type": "display_data"
    }
   ],
   "source": [
    "# control histogram of correctly recalled number of digits\n",
    "ax = sns.histplot(data=control, binrange=(0,20), binwidth=3, color=\"lightblue\")\n",
    "ax.set(xlabel=\"correctly recalled number of digits (control)\", ylabel=\"frequency\")"
   ]
  },
  {
   "cell_type": "code",
   "execution_count": 6,
   "id": "ad4df1a1",
   "metadata": {},
   "outputs": [
    {
     "data": {
      "text/plain": [
       "[Text(0.5, 0, 'correctly recalled number of digits (spicy)'),\n",
       " Text(0, 0.5, 'frequency')]"
      ]
     },
     "execution_count": 6,
     "metadata": {},
     "output_type": "execute_result"
    },
    {
     "data": {
      "image/png": "[encoded data removed]",
      "text/plain": [
       "<Figure size 640x480 with 1 Axes>"
      ]
     },
     "metadata": {},
     "output_type": "display_data"
    }
   ],
   "source": [
    "# spicy histogram of correctly recalled number of digits\n",
    "ax = sns.histplot(data=spicy, binrange=(0,20), binwidth=3, color=\"salmon\")\n",
    "ax.set(xlabel=\"correctly recalled number of digits (spicy)\", ylabel=\"frequency\")"
   ]
  },
  {
   "cell_type": "code",
   "execution_count": 7,
   "id": "f8b3131a",
   "metadata": {},
   "outputs": [
    {
     "name": "stdout",
     "output_type": "stream",
     "text": [
      "ttest_ind_from_stats: df = 23.9687 t = 0.450888  p = 0.328061\n"
     ]
    }
   ],
   "source": [
    "# perform two-sample t-test\n",
    "# H_0 = mean number of correctly recalled digits is the same for subjects who consumed spicy nooodles and those who did not\n",
    "# H_A = mean number of correctly recalled digits is greater for subjects who consumed spicy noodles than those who did not\n",
    "# alpha = 0.05\n",
    "\n",
    "control_var = np.std(control)**2 / control.shape[0]\n",
    "spicy_var = np.std(spicy)**2 / spicy.shape[0]\n",
    "df = (control_var + spicy_var)**2 / (control_var**2 / (control.shape[0] - 1) + spicy_var**2 / (spicy.shape[0] - 1))\n",
    "\n",
    "t, p = stats.ttest_ind_from_stats(spicy.mean(), np.std(spicy), spicy.shape[0],\n",
    "                                  control.mean(), np.std(control), control.shape[0],\n",
    "                                  equal_var=False, alternative=\"greater\")\n",
    "\n",
    "print(\"ttest_ind_from_stats: df = %g t = %g  p = %g\" % (df, t, p))"
   ]
  },
  {
   "cell_type": "code",
   "execution_count": null,
   "id": "518ae2b5",
   "metadata": {},
   "outputs": [],
   "source": []
  }
 ],
 "metadata": {
  "kernelspec": {
   "display_name": "Python 3 (ipykernel)",
   "language": "python",
   "name": "python3"
  },
  "language_info": {
   "codemirror_mode": {
    "name": "ipython",
    "version": 3
   },
   "file_extension": ".py",
   "mimetype": "text/x-python",
   "name": "python",
   "nbconvert_exporter": "python",
   "pygments_lexer": "ipython3",
   "version": "3.10.6"
  }
 },
 "nbformat": 4,
 "nbformat_minor": 5
}
