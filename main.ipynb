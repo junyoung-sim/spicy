{
 "cells": [
  {
   "cell_type": "code",
   "execution_count": 1,
   "id": "846cfa36",
   "metadata": {},
   "outputs": [],
   "source": [
    "import numpy as np\n",
    "import pandas as pd\n",
    "import seaborn as sns\n",
    "from scipy import stats"
   ]
  },
  {
   "cell_type": "code",
   "execution_count": 2,
   "id": "3c2d66d0",
   "metadata": {},
   "outputs": [
    {
     "data": {
      "text/html": [
       "<div>\n",
       "<style scoped>\n",
       "    .dataframe tbody tr th:only-of-type {\n",
       "        vertical-align: middle;\n",
       "    }\n",
       "\n",
       "    .dataframe tbody tr th {\n",
       "        vertical-align: top;\n",
       "    }\n",
       "\n",
       "    .dataframe thead th {\n",
       "        text-align: right;\n",
       "    }\n",
       "</style>\n",
       "<table border=\"1\" class=\"dataframe\">\n",
       "  <thead>\n",
       "    <tr style=\"text-align: right;\">\n",
       "      <th></th>\n",
       "      <th>Correct</th>\n",
       "    </tr>\n",
       "  </thead>\n",
       "  <tbody>\n",
       "    <tr>\n",
       "      <th>count</th>\n",
       "      <td>38.000000</td>\n",
       "    </tr>\n",
       "    <tr>\n",
       "      <th>mean</th>\n",
       "      <td>7.526316</td>\n",
       "    </tr>\n",
       "    <tr>\n",
       "      <th>std</th>\n",
       "      <td>3.108287</td>\n",
       "    </tr>\n",
       "    <tr>\n",
       "      <th>min</th>\n",
       "      <td>2.000000</td>\n",
       "    </tr>\n",
       "    <tr>\n",
       "      <th>25%</th>\n",
       "      <td>5.000000</td>\n",
       "    </tr>\n",
       "    <tr>\n",
       "      <th>50%</th>\n",
       "      <td>8.000000</td>\n",
       "    </tr>\n",
       "    <tr>\n",
       "      <th>75%</th>\n",
       "      <td>10.000000</td>\n",
       "    </tr>\n",
       "    <tr>\n",
       "      <th>max</th>\n",
       "      <td>14.000000</td>\n",
       "    </tr>\n",
       "  </tbody>\n",
       "</table>\n",
       "</div>"
      ],
      "text/plain": [
       "         Correct\n",
       "count  38.000000\n",
       "mean    7.526316\n",
       "std     3.108287\n",
       "min     2.000000\n",
       "25%     5.000000\n",
       "50%     8.000000\n",
       "75%    10.000000\n",
       "max    14.000000"
      ]
     },
     "execution_count": 2,
     "metadata": {},
     "output_type": "execute_result"
    }
   ],
   "source": [
    "spicy = pd.read_csv(\"./data/spicy.csv\")\n",
    "spicy.describe()"
   ]
  },
  {
   "cell_type": "code",
   "execution_count": 3,
   "id": "bb82493b",
   "metadata": {},
   "outputs": [
    {
     "data": {
      "text/html": [
       "<div>\n",
       "<style scoped>\n",
       "    .dataframe tbody tr th:only-of-type {\n",
       "        vertical-align: middle;\n",
       "    }\n",
       "\n",
       "    .dataframe tbody tr th {\n",
       "        vertical-align: top;\n",
       "    }\n",
       "\n",
       "    .dataframe thead th {\n",
       "        text-align: right;\n",
       "    }\n",
       "</style>\n",
       "<table border=\"1\" class=\"dataframe\">\n",
       "  <thead>\n",
       "    <tr style=\"text-align: right;\">\n",
       "      <th></th>\n",
       "      <th>Correct</th>\n",
       "    </tr>\n",
       "  </thead>\n",
       "  <tbody>\n",
       "    <tr>\n",
       "      <th>count</th>\n",
       "      <td>40.000000</td>\n",
       "    </tr>\n",
       "    <tr>\n",
       "      <th>mean</th>\n",
       "      <td>6.700000</td>\n",
       "    </tr>\n",
       "    <tr>\n",
       "      <th>std</th>\n",
       "      <td>3.081791</td>\n",
       "    </tr>\n",
       "    <tr>\n",
       "      <th>min</th>\n",
       "      <td>1.000000</td>\n",
       "    </tr>\n",
       "    <tr>\n",
       "      <th>25%</th>\n",
       "      <td>4.750000</td>\n",
       "    </tr>\n",
       "    <tr>\n",
       "      <th>50%</th>\n",
       "      <td>7.000000</td>\n",
       "    </tr>\n",
       "    <tr>\n",
       "      <th>75%</th>\n",
       "      <td>9.000000</td>\n",
       "    </tr>\n",
       "    <tr>\n",
       "      <th>max</th>\n",
       "      <td>12.000000</td>\n",
       "    </tr>\n",
       "  </tbody>\n",
       "</table>\n",
       "</div>"
      ],
      "text/plain": [
       "         Correct\n",
       "count  40.000000\n",
       "mean    6.700000\n",
       "std     3.081791\n",
       "min     1.000000\n",
       "25%     4.750000\n",
       "50%     7.000000\n",
       "75%     9.000000\n",
       "max    12.000000"
      ]
     },
     "execution_count": 3,
     "metadata": {},
     "output_type": "execute_result"
    }
   ],
   "source": [
    "control = pd.read_csv(\"./data/control.csv\")\n",
    "control.describe()"
   ]
  },
  {
   "cell_type": "code",
   "execution_count": 4,
   "id": "fadc7c75",
   "metadata": {},
   "outputs": [],
   "source": [
    "control = np.array(control[\"Correct\"])\n",
    "spicy = np.array(spicy[\"Correct\"])"
   ]
  },
  {
   "cell_type": "code",
   "execution_count": 5,
   "id": "ad4df1a1",
   "metadata": {},
   "outputs": [
    {
     "data": {
      "text/plain": [
       "[Text(0.5, 0, 'correctly recalled number of digits (spicy)'),\n",
       " Text(0, 0.5, 'frequency')]"
      ]
     },
     "execution_count": 5,
     "metadata": {},
     "output_type": "execute_result"
    },
    {
     "data": {
      "image/png": "[encoded data removed]",
      "text/plain": [
       "<Figure size 640x480 with 1 Axes>"
      ]
     },
     "metadata": {},
     "output_type": "display_data"
    }
   ],
   "source": [
    "ax = sns.histplot(data=spicy, binrange=(0,20), binwidth=3, color=\"salmon\")\n",
    "ax.set(xlabel=\"correctly recalled number of digits (spicy)\", ylabel=\"frequency\")"
   ]
  },
  {
   "cell_type": "code",
   "execution_count": 6,
   "id": "99848e91",
   "metadata": {},
   "outputs": [
    {
     "data": {
      "text/plain": [
       "[Text(0.5, 0, 'correctly recalled number of digits (control)'),\n",
       " Text(0, 0.5, 'frequency')]"
      ]
     },
     "execution_count": 6,
     "metadata": {},
     "output_type": "execute_result"
    },
    {
     "data": {
      "image/png": "[encoded data removed]",
      "text/plain": [
       "<Figure size 640x480 with 1 Axes>"
      ]
     },
     "metadata": {},
     "output_type": "display_data"
    }
   ],
   "source": [
    "ax = sns.histplot(data=control, binrange=(0,20), binwidth=3, color=\"lightblue\")\n",
    "ax.set(xlabel=\"correctly recalled number of digits (control)\", ylabel=\"frequency\")"
   ]
  },
  {
   "cell_type": "code",
   "execution_count": 7,
   "id": "f8b3131a",
   "metadata": {},
   "outputs": [
    {
     "name": "stdout",
     "output_type": "stream",
     "text": [
      "spicy  : mean = 7.52632, std = 3.10829, n = 38\n",
      "control: mean = 6.70000, std = 3.08179, n = 40\n",
      "==========================================================\n",
      "ttest_ind_from_stats\n",
      "==========================================================\n",
      "std = 0.70120, df = 75.72255, t = 1.17843 --> p = 0.24232\n"
     ]
    }
   ],
   "source": [
    "spicy_var = spicy.std(ddof=1)**2 / spicy.shape[0]\n",
    "control_var = control.std(ddof=1)**2 / control.shape[0]\n",
    "stdev = (spicy_var + control_var)**(1/2)\n",
    "\n",
    "df = (spicy_var + control_var)**2 / (spicy_var**2 / (spicy.shape[0] - 1) + control_var**2 / (control.shape[0] - 1))\n",
    "\n",
    "t, p = stats.ttest_ind_from_stats(spicy.mean(), spicy.std(ddof=1), spicy.shape[0],\n",
    "                                  control.mean(), control.std(ddof=1), control.shape[0],\n",
    "                                  equal_var=False, alternative=\"two-sided\")\n",
    "\n",
    "print(\"spicy  : mean = %.5f, std = %.5f, n = %d\" % (spicy.mean(), spicy.std(ddof=1), spicy.shape[0]))\n",
    "print(\"control: mean = %.5f, std = %.5f, n = %d\" % (control.mean(), control.std(ddof=1), control.shape[0]))\n",
    "print(\"==========================================================\")\n",
    "print(\"ttest_ind_from_stats\")\n",
    "print(\"==========================================================\")\n",
    "print(\"std = %.5f, df = %.5f, t = %.5f --> p = %.5f\" % (stdev, df, t, p))"
   ]
  },
  {
   "cell_type": "code",
   "execution_count": null,
   "id": "518ae2b5",
   "metadata": {},
   "outputs": [],
   "source": []
  }
 ],
 "metadata": {
  "kernelspec": {
   "display_name": "Python 3 (ipykernel)",
   "language": "python",
   "name": "python3"
  },
  "language_info": {
   "codemirror_mode": {
    "name": "ipython",
    "version": 3
   },
   "file_extension": ".py",
   "mimetype": "text/x-python",
   "name": "python",
   "nbconvert_exporter": "python",
   "pygments_lexer": "ipython3",
   "version": "3.10.6"
  }
 },
 "nbformat": 4,
 "nbformat_minor": 5
}
